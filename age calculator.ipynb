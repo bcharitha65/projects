{
 "cells": [
  {
   "cell_type": "code",
   "execution_count": 2,
   "id": "4f9f8ffa-b9d2-43ff-bf0a-b6aca7559d37",
   "metadata": {},
   "outputs": [
    {
     "name": "stdin",
     "output_type": "stream",
     "text": [
      "input your name:  11-05-2004\n",
      "input your age:  21\n"
     ]
    },
    {
     "name": "stdout",
     "output_type": "stream",
     "text": [
      "11-05-2004's age is 21 years or 258 months or 7827 days\n"
     ]
    }
   ],
   "source": [
    "# -*- coding: utf-8 -*-\n",
    "import time\n",
    "from calendar import isleap\n",
    "\n",
    "# judge the leap year\n",
    "def judge_leap_year(year):\n",
    "    if isleap(year):\n",
    "        return True\n",
    "    else:\n",
    "        return False\n",
    "\n",
    "\n",
    "# returns the number of days in each month\n",
    "def month_days(month, leap_year):\n",
    "    if month in [1, 3, 5, 7, 8, 10, 12]:\n",
    "        return 31\n",
    "    elif month in [4, 6, 9, 11]:\n",
    "        return 30\n",
    "    elif month == 2 and leap_year:\n",
    "        return 29\n",
    "    elif month == 2 and (not leap_year):\n",
    "        return 28\n",
    "\n",
    "\n",
    "name = input(\"input your name: \")\n",
    "age = input(\"input your age: \")\n",
    "localtime = time.localtime(time.time())\n",
    "\n",
    "year = int(age)\n",
    "month = year * 12 + localtime.tm_mon\n",
    "day = 0\n",
    "\n",
    "begin_year = int(localtime.tm_year) - year\n",
    "end_year = begin_year + year\n",
    "\n",
    "# calculate the days\n",
    "for y in range(begin_year, end_year):\n",
    "    if (judge_leap_year(y)):\n",
    "        day = day + 366\n",
    "    else:\n",
    "        day = day + 365\n",
    "\n",
    "leap_year = judge_leap_year(localtime.tm_year)\n",
    "for m in range(1, localtime.tm_mon):\n",
    "    day = day + month_days(m, leap_year)\n",
    "\n",
    "day = day + localtime.tm_mday\n",
    "print(\"%s's age is %d years or \" % (name, year), end=\"\")\n",
    "print(\"%d months or %d days\" % (month, day))"
   ]
  },
  {
   "cell_type": "code",
   "execution_count": null,
   "id": "d409bd32-e575-47c6-82eb-c24a30ce66fd",
   "metadata": {},
   "outputs": [],
   "source": []
  }
 ],
 "metadata": {
  "kernelspec": {
   "display_name": "Python 3 (ipykernel)",
   "language": "python",
   "name": "python3"
  },
  "language_info": {
   "codemirror_mode": {
    "name": "ipython",
    "version": 3
   },
   "file_extension": ".py",
   "mimetype": "text/x-python",
   "name": "python",
   "nbconvert_exporter": "python",
   "pygments_lexer": "ipython3",
   "version": "3.11.7"
  }
 },
 "nbformat": 4,
 "nbformat_minor": 5
}
